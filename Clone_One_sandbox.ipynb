{
  "nbformat": 4,
  "nbformat_minor": 0,
  "metadata": {
    "colab": {
      "provenance": [],
      "authorship_tag": "ABX9TyMdojA9JmQXthi8wDrJsdf8",
      "include_colab_link": true
    },
    "kernelspec": {
      "name": "python3",
      "display_name": "Python 3"
    },
    "language_info": {
      "name": "python"
    }
  },
  "cells": [
    {
      "cell_type": "markdown",
      "metadata": {
        "id": "view-in-github",
        "colab_type": "text"
      },
      "source": [
        "<a href=\"https://colab.research.google.com/github/Parlipuudja/TwinState/blob/main/Clone_One_sandbox.ipynb\" target=\"_parent\"><img src=\"https://colab.research.google.com/assets/colab-badge.svg\" alt=\"Open In Colab\"/></a>"
      ]
    },
    {
      "cell_type": "markdown",
      "source": [
        "# MVP next steps\n",
        "\n",
        "1. Pick: one MP, one training policy, one test policy, one model to use.\n",
        "\n",
        "2. Implement the code for this all, the very first working prediction."
      ],
      "metadata": {
        "id": "SHce6RbeAcXq"
      }
    },
    {
      "cell_type": "markdown",
      "source": [],
      "metadata": {
        "id": "oiGczsb7-kmW"
      }
    },
    {
      "cell_type": "markdown",
      "source": [
        "# Model architecture\n",
        "\n"
      ],
      "metadata": {
        "id": "ZTiGEIQZ_f_v"
      }
    },
    {
      "cell_type": "markdown",
      "source": [
        "### At training\n",
        "\n",
        "Input: policy text, MP votes, speeches.\n",
        "\n",
        "Model: learns connection between MP votes and their speeches.\n",
        "\n",
        "### At test/final product\n",
        "\n",
        "Input: policy text.\n",
        "\n",
        "Model: predicts position of every MP to policy.\n",
        "\n",
        "Output: \"support / oppose / unclear\" + confidence, and three linked quotes each (from past debates), of 1 up to 101 MPs.\n"
      ],
      "metadata": {
        "id": "ZnEisYWXBK-V"
      }
    },
    {
      "cell_type": "markdown",
      "source": [
        "### Per each MP whose position is predicted\n",
        "\n",
        "Input/stored data: speeches, votes\n",
        "\n",
        "Model: small-size reasoning LLM\n",
        "\n",
        "Output: \"support / oppose / unclear\" + confidence, and three linked quotes each (from past debates)."
      ],
      "metadata": {
        "id": "bmeD5G9MA2xW"
      }
    },
    {
      "cell_type": "markdown",
      "source": [
        "# Steps in the code\n",
        "\n",
        "### 1. Fetch relevant data from Riigikogu API.\n",
        "\n",
        "### 2. Prepare data for use by the model.\n",
        "\n",
        "### 3. Run the model on the data.\n",
        "\n",
        "### 4. Output some results from the model."
      ],
      "metadata": {
        "id": "zLc_b4DA9yJi"
      }
    },
    {
      "cell_type": "code",
      "execution_count": null,
      "metadata": {
        "colab": {
          "base_uri": "https://localhost:8080/"
        },
        "id": "_SrBBXsW9Fk3",
        "outputId": "466bc05f-21fd-4050-bb37-09b84a94c9b4"
      },
      "outputs": [
        {
          "output_type": "stream",
          "name": "stdout",
          "text": [
            "Saved: https://stenogrammid.riigikogu.ee/et/201812061000\n",
            "Saved: https://stenogrammid.riigikogu.ee/et/202304191400\n"
          ]
        }
      ],
      "source": [
        "import json, time, pathlib, requests\n",
        "from urllib.parse import urljoin\n",
        "\n",
        "BASE = \"https://api.riigikogu.ee\"\n",
        "OUT  = pathlib.Path(\"riigikogu_snapshot\"); OUT.mkdir(exist_ok=True)\n",
        "\n",
        "def fetch_json(url, params=None):\n",
        "    r = requests.get(url, params=params, timeout=30)\n",
        "    r.raise_for_status()\n",
        "    return r.json()\n",
        "\n",
        "# 1) Members (plenary)\n",
        "members = fetch_json(urljoin(BASE, \"/api/plenary-members\"))\n",
        "(pathlib.Path(OUT, \"members.json\")).write_text(json.dumps(members, ensure_ascii=False, indent=2))\n",
        "\n",
        "# 2) Votings for a sample day (adjust dates)\n",
        "params = {\"startDate\":\"2025-05-14\", \"endDate\":\"2025-05-14\", \"lang\":\"et\"}\n",
        "votings = fetch_json(urljoin(BASE, \"/api/votings\"), params=params)\n",
        "(pathlib.Path(OUT, \"votings-2025-05-14.json\")).write_text(json.dumps(votings, ensure_ascii=False, indent=2))\n",
        "\n",
        "# 3) Verbatim record HTML by datetime (use known pattern)\n",
        "def fetch_stenogram(dt=\"201812061000\", lang=\"et\"):\n",
        "    # examples: et/201812061000 or et/202304191400\n",
        "    url = f\"https://stenogrammid.riigikogu.ee/{lang}/{dt}\"\n",
        "    r = requests.get(url, timeout=30)\n",
        "    if r.status_code == 200:\n",
        "        (OUT / f\"stenogram-{dt}.html\").write_bytes(r.content)\n",
        "        return url\n",
        "    return None\n",
        "\n",
        "for dt in [\"201812061000\", \"202304191400\"]:\n",
        "    print(\"Saved:\", fetch_stenogram(dt))\n"
      ]
    }
  ]
}